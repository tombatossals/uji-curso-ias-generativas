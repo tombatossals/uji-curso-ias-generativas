{
  "nbformat": 4,
  "nbformat_minor": 0,
  "metadata": {
    "colab": {
      "provenance": [],
      "authorship_tag": "ABX9TyMca+nNyc/SMtQFJxDVUNva",
      "include_colab_link": true
    },
    "kernelspec": {
      "name": "python3",
      "display_name": "Python 3"
    },
    "language_info": {
      "name": "python"
    }
  },
  "cells": [
    {
      "cell_type": "markdown",
      "metadata": {
        "id": "view-in-github",
        "colab_type": "text"
      },
      "source": [
        "<a href=\"https://colab.research.google.com/github/tombatossals/uji-curso-ias-generativas/blob/main/0201_Ejercicios_CURL%2C_acceso_a_APIS.ipynb\" target=\"_parent\"><img src=\"https://colab.research.google.com/assets/colab-badge.svg\" alt=\"Open In Colab\"/></a>"
      ]
    },
    {
      "cell_type": "markdown",
      "source": [
        "# 1. Acceso a una API con CURL\n",
        "\n",
        "Queremos acceder a la API de **ipinfo.io** para ver qué datos me puede proporcionar esta API de manera anónima, sin autenticación. Tenemos los siguientes datos:\n",
        "\n",
        "* El endpoint de la API es el siguiente: https://ipinfo.io/json.\n",
        "* Se accede de manera anónima.\n",
        "* Proporciona información sobre la IP, el hostname, la ciudad, la región el país, las coordenadas de localización, la organización que gestiona esa IP, el código postal, el timezone de la región.\n",
        "\n",
        "Tenemos que conseguir lo siguiente:\n",
        "* Utilizando CURL haz una llamada al endpoint de la API.\n",
        "* Encadena la llamada a jq para formatear el JSON.\n",
        "* Utiliza JSON para extraer únicamente el dato de la IP.\n",
        "\n",
        "## Solución\n",
        "https://reveal-5dn.pages.dev/957f"
      ],
      "metadata": {
        "id": "gvozDn9WmH_1"
      }
    },
    {
      "cell_type": "markdown",
      "source": [
        "---\n",
        "\n",
        "# 2. Acceso a una API con curl pasando parámetros en la query\n",
        "\n",
        "Queremos acceder a la API de **open-meteo.com** y saber cuál es la temperatura prevista para mañana a las 18.00h desde línea de comandos.  \n",
        "\n",
        "* Averigua cuál es el EndPoint de la API consultando la página: https://open-meteo.com/\n",
        "* Se accede de manera anónima.\n",
        "* Hay que pasar parámetros personalizados vía query params, por ejemplo la latitud/longitud de nuestra ubicación.\n",
        "* Tendremos que obtener la lat/lng de nuestra ubicación, podemos preguntárselo a ChatGPT.\n",
        "* Queremos obtener una respuesta de este estilo:\n",
        "```\n",
        "{\n",
        "  \"time\": \"2024-08-02T18:00\",\n",
        "  \"temperature_2m\": 28.7,\n",
        "}\n",
        "```\n",
        "\n",
        "## Solución\n",
        "https://reveal-5dn.pages.dev/0b65"
      ],
      "metadata": {
        "id": "mImOQBVYRMlt"
      }
    },
    {
      "cell_type": "markdown",
      "source": [
        "---\n",
        "# 3. Acceso a una API con envío de datos POST\n",
        "\n",
        "Queremos acceder ahora a la API de **cleanuri.com** que nos permite enviarle una URL y nos devuelve una URL acortada que apunte a la dirección original.  \n",
        "\n",
        "* Averigua cuál es el EndPoint de la API consultando la página: https://cleanuri.com/\n",
        "* Se accede de manera anónima.\n",
        "* Hay que pasar un párametro personalizado vía POST (parámetro -X).\n",
        "* Podemos pasarle el parámetro al estilo datos POST, o al estilo datos JSON. En este último caso deberemos especificar con el parámetro -H de cabecera que el contenido que enviamos está en formato JSON.\n",
        "* La respuesta que obtendremos ha de tener de este estilo:\n",
        "```\n",
        "{\"result_url\":\"https://cleanuri.com/jzo7ve\"}\n",
        "```\n",
        "\n",
        "## Solución\n",
        "https://reveal-5dn.pages.dev/8b51"
      ],
      "metadata": {
        "id": "VVuqfsANO9Zo"
      }
    },
    {
      "cell_type": "markdown",
      "source": [
        "---\n",
        "# 4. Llamada a una API autenticada\n",
        "\n",
        "Finalmente llamaremos a una API autenticada, en este caso con un token de acceso que deberemos proporcionar a la API vía la cabecera \"Authentication\".\n",
        "\n",
        "* Visita la página https://reviews2api.pages.dev, verás que publica su información a través de API.\n",
        "* Accede a cualquier artículo y obtén el EndPoint privado de la API, y token de autenticación.\n",
        "* Llama a la API a través de la cabecera de atenticación \"Authorization: Bearer $TOKEN\" y obtén la respuesta secreta del artículo con la página Amazon que vende el artículo.\n",
        "* La respuesta que deberemos obtener es del estilo:\n",
        "```\n",
        "{\"message\":\"You did it!\",\"url\":\"https://amazon.es/gp/product/B01D4NCVNS.json\"}\n",
        "```\n",
        "\n",
        "## Solución\n",
        "https://reveal-5dn.pages.dev/eaf0"
      ],
      "metadata": {
        "id": "Tr0fY7k8RBZz"
      }
    }
  ]
}