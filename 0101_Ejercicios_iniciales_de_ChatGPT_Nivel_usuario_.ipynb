{
  "nbformat": 4,
  "nbformat_minor": 0,
  "metadata": {
    "colab": {
      "provenance": [],
      "authorship_tag": "ABX9TyOc6pH9TbAyttBtEpLVMyd9",
      "include_colab_link": true
    },
    "kernelspec": {
      "name": "python3",
      "display_name": "Python 3"
    },
    "language_info": {
      "name": "python"
    }
  },
  "cells": [
    {
      "cell_type": "markdown",
      "metadata": {
        "id": "view-in-github",
        "colab_type": "text"
      },
      "source": [
        "<a href=\"https://colab.research.google.com/github/tombatossals/uji-curso-ias-generativas/blob/main/0101_Ejercicios_iniciales_de_ChatGPT_Nivel_usuario_.ipynb\" target=\"_parent\"><img src=\"https://colab.research.google.com/assets/colab-badge.svg\" alt=\"Open In Colab\"/></a>"
      ]
    },
    {
      "cell_type": "markdown",
      "source": [
        "# Ejercicio 1\n",
        "\n",
        "Conéctate a ChatGPT a través de tu cuenta UJI siguiendo el proceso que hemos visto en la presentación.\n",
        "\n",
        "Crea tu primer prompt, preguntando a ChatGPT, con tus propias palabras, cuál es la fecha máxima para la que ha sido entrenado y puede darnos información sin tener que conectarse a internet.\n",
        "\n",
        "## Solución\n",
        "https://reveal-5dn.pages.dev/814f"
      ],
      "metadata": {
        "id": "WZ1kr3BY6usf"
      }
    },
    {
      "cell_type": "markdown",
      "source": [
        "# Ejercicio 2\n",
        "\n",
        "\n",
        "Necesitamos saber cuándo será la próxima luna llena. Ya de paso, que nos explique por qué se produce el fenómeno de la luna llena y con qué periodicidad.\n",
        "\n",
        "¿Ha tenido que conectarse a internet para averiguarlo? ¿Sabe qué día es hoy?\n",
        "\n",
        "## Solución\n",
        "https://reveal-5dn.pages.dev/d81b\n"
      ],
      "metadata": {
        "id": "fzRqRzWQpcGc"
      }
    },
    {
      "cell_type": "markdown",
      "source": [
        "# Ejercicio 3\n",
        "\n",
        "Pídele a ChatGPT que te explique donde esta la gracia de esta imagen.\n",
        "\n",
        "<img src=\"https://drive.google.com/uc?export=view&id=1xIhWJki1Dc647vjdThSWPo3YGn24E1iN\" width=\"320\"/>\n",
        "\n",
        "\n",
        "## Solución\n",
        "https://reveal-5dn.pages.dev/d81b\n"
      ],
      "metadata": {
        "id": "A2yDO3PU6WT-"
      }
    },
    {
      "cell_type": "markdown",
      "source": [
        "# Ejercicio 4\n",
        "\n",
        "Tenemos este correo en nuestro buzón:\n",
        "\n",
        "```text\n",
        "He estado tratando de comunicarme con la atención al\n",
        "usuario durante todo el mes de agosto y nadie me ha\n",
        "contestado, lo que me parece impresentable.\n",
        "\n",
        "Espero tener más suerte escribiéndote directamente\n",
        "a ti. La aplicación me dice que no puedo continuar\n",
        "porque tengo una deuda económica con la empresa.\n",
        "\n",
        "Es lamentable porque sólo debo 380 euros. Estoy\n",
        "intentando buscar en vuestra  web dónde debo acceder\n",
        "para abonar el recibo pendiente y no lo encuento.\n",
        "¿Dónde está?\n",
        "```\n",
        "\n",
        "Debemos generar una respuesta en valenciano a este correo, en un máximo de 300 palabras, manteniendo el tono más respetuoso posible, e indicándole que para abonar el importe económico que se le adeuda debe acceder a https://miempresa.com/tpv.\n",
        "\n",
        "## Solución\n",
        "https://reveal-5dn.pages.dev/be6c"
      ],
      "metadata": {
        "id": "16HQJg0Ny8ax"
      }
    },
    {
      "cell_type": "markdown",
      "source": [
        "# Ejercicio 5\n",
        "\n",
        "Necesitamos una playlist para la fiesta de celebración del aumento de sueldo generalizado de la empresa. Hemos decidido basarla en éxitos de los 70 y 80, pero que tengan una versión en castellano, así que necesitamos nombres de canciones y artistas. Queremos que nos lo presente en modo tabular para que sea más legible.\n",
        "\n",
        "## Solución\n",
        "https://reveal-5dn.pages.dev/28b0"
      ],
      "metadata": {
        "id": "GfBibGTS9OEM"
      }
    }
  ]
}