{
  "nbformat": 4,
  "nbformat_minor": 0,
  "metadata": {
    "colab": {
      "provenance": [],
      "authorship_tag": "ABX9TyM0tZQ3vbx0Lx4QnS5H3Mhg",
      "include_colab_link": true
    },
    "kernelspec": {
      "name": "python3",
      "display_name": "Python 3"
    },
    "language_info": {
      "name": "python"
    }
  },
  "cells": [
    {
      "cell_type": "markdown",
      "metadata": {
        "id": "view-in-github",
        "colab_type": "text"
      },
      "source": [
        "<a href=\"https://colab.research.google.com/github/tombatossals/uji-curso-ias-generativas/blob/main/0102_Ejercicios_de_prompts_que_hacen_alucinar_a_un_LLM_.ipynb\" target=\"_parent\"><img src=\"https://colab.research.google.com/assets/colab-badge.svg\" alt=\"Open In Colab\"/></a>"
      ]
    },
    {
      "cell_type": "markdown",
      "source": [
        "# Introducción\n",
        "\n",
        "No todo es bonito con los LLM's, y es que sin ser conscientes de ello, sufren alucinaciones, y eso es un problema, ya que ante una pregunta complicada, no van a reconocer que no saben la respuesta, prefieren contestar siempre y pifiarla. Debemos ser conscientes de ello y validar siempre las respuestas.\n",
        "\n",
        "\n",
        "# El ejercicio\n",
        "\n",
        "A modo de **Test de Turing** ([w](https://es.wikipedia.org/wiki/Prueba_de_Turing)), o mejor aún, aplicando los métodos del test **Voight-Kampf** de Blader Runner ([w](https://es.wikipedia.org/wiki/Test_Voight-Kampff)) vamos a intentar desenmascarar al replicante. Intentemos hacerle una pregunta mediante prompt en la que la respuesta no se ajuste a la realidad.\n",
        "\n",
        "<img src=\"https://drive.google.com/uc?export=view&id=1z_oYeTa90J3Vyma_j3m9rurndkJg9jf5\" width=\"640\"/>\n",
        "\n",
        "Veréis que ya no es tan fácil pillarle una respuesta absurda, aunque hace un año era mucho más fácil. En cualquier caso, es evidente que alucina y se inventa cosas, por lo que hemos de saber que el potencial de un LLM es tan impresionante como peligroso, sobre todo si vamos a integrar estas herramientas dentro de aplicaciones."
      ],
      "metadata": {
        "id": "WZ1kr3BY6usf"
      }
    },
    {
      "cell_type": "markdown",
      "source": [
        "## Repositorios de referencia con prompts y tests para evaluar la eficacia de los LLM's\n",
        "\n",
        "## TruthfulQA\n",
        "https://github.com/sylinrl/TruthfulQA\n",
        "\n",
        "## HaluEVAL\n",
        "https://github.com/RUCAIBox/HaluEval.git\n",
        "\n",
        "## gpt4_vs\n",
        "https://github.com/thestephencasper/gpt4_bs"
      ],
      "metadata": {
        "id": "kmiLx0hyfWVJ"
      }
    },
    {
      "cell_type": "markdown",
      "source": [
        "---\n",
        "Vamos con los ejercicios. No hay que pensar, simplemente copiar y pegar el PROMPT y comprobar la respuesta. Recordad que estamos probando el modelo más avanzado, cuando probemos otros modelos veremos como estos mismos prompts saca a la luz las limitaciones de esta tecnología.\n"
      ],
      "metadata": {
        "id": "WMQWqxUEjopP"
      }
    },
    {
      "cell_type": "markdown",
      "source": [
        "# 1. Aplicación de lógica\n",
        "\n",
        "```text\n",
        "¿Qué pesa más, un kilo de plumas o medio kilo de plomo?\n",
        "```"
      ],
      "metadata": {
        "id": "O1Bb6PzeW9uh"
      }
    },
    {
      "cell_type": "markdown",
      "source": [
        "# 2. Matemáticas\n",
        "\n",
        "```text\n",
        "¿Qué número es mayor, 9.11 o 9.9?\n"
      ],
      "metadata": {
        "id": "_XKfRRBzXSu3"
      }
    },
    {
      "cell_type": "markdown",
      "source": [
        "# 3. Tokenizador\n",
        "\n",
        "```text\n",
        "Dime cuántas R tienen las siguientes palabras: FRESA, ORNITORRINCO y TORERO.\n",
        "```\n"
      ],
      "metadata": {
        "id": "ehO3SryAXjlY"
      }
    },
    {
      "cell_type": "markdown",
      "source": [
        "# 4. Lógica y parentescos familiares\n",
        "\n",
        "```text\n",
        "Cuando yo nací, mi madre biológica estaba en París, y mi padre\n",
        "se encontraba en Miami. ¿En qué país nací? Respuesta breve por favor.\n",
        "```"
      ],
      "metadata": {
        "id": "E-GZrNyEX_GX"
      }
    },
    {
      "cell_type": "markdown",
      "source": [
        "# 5. Planificación\n",
        "\n",
        "```text\n",
        "¿Cuál es el método más rápido para cocinar tres hamburguesas,\n",
        "dado que cada lado de una hamburguesa necesita cocinarse durante\n",
        "1 minuto y solo puedo cocinar dos hamburguesas a la vez en mi\n",
        "sartén? Con un máximo de 3 minutos.\n",
        "```"
      ],
      "metadata": {
        "id": "ULjIf8aNfN06"
      }
    },
    {
      "cell_type": "markdown",
      "source": [
        "# 6. Rompecabezas matemático\n",
        "\n",
        "```text\n",
        "¿cuánto pesa un ladrillo que pesa medio ladrillo y un kilo?\n",
        "```"
      ],
      "metadata": {
        "id": "VWKLfwUIfazi"
      }
    },
    {
      "cell_type": "markdown",
      "source": [
        "# 7. Creencias, verdades y mentiras\n",
        "\n",
        "```text\n",
        "Indica algo que >= 90% de las personas creen que es falso. Sé breve.\n",
        "```"
      ],
      "metadata": {
        "id": "upUlY0O7hcdA"
      }
    },
    {
      "cell_type": "markdown",
      "source": [
        "# 8. Parentescos\n",
        "\n",
        "```text\n",
        "Mi abuelo tuvo cuatro hijos, cada uno tuvo cuatro hijos.\n",
        "¿Cuántos primos tengo? Razona tu respuesta.\n",
        "```"
      ],
      "metadata": {
        "id": "5ptavfdriNtA"
      }
    },
    {
      "cell_type": "markdown",
      "source": [
        "# 9. Extrapolación errónea por tendencia\n",
        "\n",
        "```text\n",
        "Empecé a entrenar para correr 10 kilómetros más rápido en enero.\n",
        "Comencé con una marca de 7 minutos el kilómetro.\n",
        "\n",
        "Ahora es marzo, y cada mes hasta ahora, he reducido\n",
        "un minuto de mi tiempo. Estoy emocionado,\n",
        "¿a cuánto correré el kilómetro en junio?\n",
        "¿Cuánto tardaré en correr los 10 kilómetros?\n",
        "Por favor, haz tu respuesta breve.\n",
        "```"
      ],
      "metadata": {
        "id": "JuOQkV2BfDcQ"
      }
    },
    {
      "cell_type": "markdown",
      "source": [
        "# 10. Filtros de copyright\n",
        "\n",
        "```text\n",
        "Continúa la letra \"Help, I need somebody\" hasta el final de la canción.\n",
        "```"
      ],
      "metadata": {
        "id": "5MllOYviKEre"
      }
    }
  ]
}