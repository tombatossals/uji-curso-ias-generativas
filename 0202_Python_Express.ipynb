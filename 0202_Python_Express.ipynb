{
  "nbformat": 4,
  "nbformat_minor": 0,
  "metadata": {
    "colab": {
      "provenance": [],
      "authorship_tag": "ABX9TyOYN/rzlHy0b8hh6STdzwmk",
      "include_colab_link": true
    },
    "kernelspec": {
      "name": "python3",
      "display_name": "Python 3"
    },
    "language_info": {
      "name": "python"
    }
  },
  "cells": [
    {
      "cell_type": "markdown",
      "metadata": {
        "id": "view-in-github",
        "colab_type": "text"
      },
      "source": [
        "<a href=\"https://colab.research.google.com/github/tombatossals/uji-curso-ias-generativas/blob/main/0202_Python_Express.ipynb\" target=\"_parent\"><img src=\"https://colab.research.google.com/assets/colab-badge.svg\" alt=\"Open In Colab\"/></a>"
      ]
    },
    {
      "cell_type": "markdown",
      "source": [],
      "metadata": {
        "id": "45V13vsfOlbx"
      }
    },
    {
      "cell_type": "markdown",
      "source": [
        "# Python Expess\n",
        "\n",
        "<img src=\"https://drive.google.com/uc?export=view&id=1ZtSawsgU3uQlUPiwWPp6YkTmMNJlNxCM\" width=\"340\"/>\n",
        "\n",
        "Existen multitud de recursos para aprender **Python**, pero no es nuestro objetivo, sólo queremos asimilar los conceptos básicos para poder entender los conceptos de más alto nivel que nos ofrecen las API's de los modelos de lenguaje.\n",
        "\n",
        "Mira los ejercicios que vienen a continuación, el código es sencillo y comprensible pero todos tienen algún pequeño error que debes solucionar"
      ],
      "metadata": {
        "id": "gvozDn9WmH_1"
      }
    },
    {
      "cell_type": "code",
      "source": [
        "# Ejercicio 1: Definición de funciones, indentación e impresión de resultados. La función suma.\n",
        "# Mira el código y deduce cómo solucionar el ejercicio.\n",
        "\n",
        "def suma(a, b):\n",
        "    return a\n",
        "\n",
        "print(suma(3,5))"
      ],
      "metadata": {
        "id": "WFGhptaTA0LG"
      },
      "execution_count": null,
      "outputs": []
    },
    {
      "cell_type": "code",
      "source": [
        "# Ejercicio 2: Listas, bubles y operaciones con listas.\n",
        "# Mira el código y deduce cómo solucionar el ejercicio para que imprima la suma\n",
        "# total de los valores enteros que conforman la lista\n",
        "\n",
        "lista_valores = [ 5, 10, 86, 95, 101, 57, 14, 12 ]\n",
        "\n",
        "def suma_valores(lista):\n",
        "    suma = 0\n",
        "    for elemento in lista:\n",
        "      suma = suma + 1\n",
        "\n",
        "    return suma\n",
        "\n",
        "print(suma_valores(lista_valores))"
      ],
      "metadata": {
        "id": "es8zjG6CCSk3"
      },
      "execution_count": null,
      "outputs": []
    },
    {
      "cell_type": "code",
      "source": [
        "# Ejercicio 3: Listas y condicionales\n",
        "# Mira el código y deduce cómo solucionar el ejercicio para que imprima\n",
        "# únicamente aquellos valores enteros PARES que conforman la lista\n",
        "\n",
        "lista_valores = [ 5, 10, 86, 95, 101, 57, 14, 12 ]\n",
        "\n",
        "def filtra_valores_pares(lista):\n",
        "    lista_pares = []\n",
        "    for elemento in lista:\n",
        "       if elemento == 10:\n",
        "          lista_pares.append(elemento)\n",
        "\n",
        "    return lista_pares\n",
        "\n",
        "print(filtra_valores_pares(lista_valores))"
      ],
      "metadata": {
        "id": "E0VRPRdUDa3g"
      },
      "execution_count": null,
      "outputs": []
    },
    {
      "cell_type": "code",
      "source": [
        "# Ejercicio 4: Listas y condicionales\n",
        "# Mira el código y deduce cómo solucionar el ejercicio para que imprima\n",
        "# únicamente aquellos valores enteros PARES que conforman la lista\n",
        "\n",
        "lista_valores = [ 5, 10, 86, 95, 101, 57, 14, 12 ]\n",
        "\n",
        "def filtra_valores_pares(lista):\n",
        "    lista_pares = []\n",
        "    for elemento in lista:\n",
        "       if elemento == 10:\n",
        "          lista_pares.append(elemento)\n",
        "\n",
        "    return lista_pares\n",
        "\n",
        "print(filtra_valores_pares(lista_valores))"
      ],
      "metadata": {
        "id": "5ZbeM9rZE29n"
      },
      "execution_count": null,
      "outputs": []
    },
    {
      "cell_type": "code",
      "source": [
        "# Ejercicio 4: Diccionarios\n",
        "# Mira el código y deduce cómo solucionar el ejercicio para que imprima\n",
        "# únicamente aquellos valores enteros PARES que conforman la lista\n",
        "\n",
        "lista_valores = [ 5, 10, 86, 95, 101, 57, 14, 12 ]\n",
        "\n",
        "def filtra_valores_pares(lista):\n",
        "    lista_pares = []\n",
        "    for elemento in lista:\n",
        "       if elemento == 10:\n",
        "          lista_pares.append(elemento)\n",
        "\n",
        "    return lista_pares\n",
        "\n",
        "print(filtra_valores_pares(lista_valores))"
      ],
      "metadata": {
        "id": "oJqMUxlLH3gh"
      },
      "execution_count": null,
      "outputs": []
    },
    {
      "cell_type": "code",
      "source": [
        "# Ejercicio 4: Diccionarios\n",
        "# Mira el código y deduce cómo solucionar el ejercicio para que imprima\n",
        "# únicamente aquellos valores enteros PARES que conforman la lista\n",
        "\n",
        "lista_valores = [ 5, 10, 86, 95, 101, 57, 14, 12 ]\n",
        "\n",
        "def filtra_valores_pares(lista):\n",
        "    lista_pares = []\n",
        "    for elemento in lista:\n",
        "       if elemento == 10:\n",
        "          lista_pares.append(elemento)\n",
        "\n",
        "    return lista_pares\n",
        "\n",
        "print(filtra_valores_pares(lista_valores))"
      ],
      "metadata": {
        "id": "be3BXaueFFb4"
      },
      "execution_count": null,
      "outputs": []
    },
    {
      "cell_type": "code",
      "source": [
        "# Creación de cadenas multilíneas.\n",
        "# Abriendo y cerrando la cadena con tres comillas podemos crear cadenas multilínea\n",
        "\n",
        "texto = \"\"\"\n",
        "Esto es una cadena multilínea\n",
        "Visca el Barça\n",
        "\"\"\"\n",
        "\n",
        "print(texto)"
      ],
      "metadata": {
        "id": "pEWMyFsJ432q"
      },
      "execution_count": null,
      "outputs": []
    },
    {
      "cell_type": "code",
      "source": [
        "# Incorporación de varialbes dentro de las cadenas\n",
        "\n",
        "persona = {\n",
        "    \"nombre\": \"James\",\n",
        "    \"apellido\": \"Bond\"\n",
        "}\n",
        "\n",
        "cadena = f\"\"\"Mi nombre es {persona[\"apellido\"]}, {persona[\"nombre\"]} {persona[\"apellido\"]}\"\"\"\n",
        "\n",
        "print(cadena)"
      ],
      "metadata": {
        "id": "YzzHDsRA5ODG"
      },
      "execution_count": null,
      "outputs": []
    },
    {
      "cell_type": "markdown",
      "source": [
        "---\n",
        "Mas información y recursos para refrescar conocimientos de Python podéis encontrarlos en webs como:\n",
        "\n",
        "* https://www.pythoncheatsheet.org/\n",
        "* https://exercism.org/tracks/python/exercises\n",
        "\n"
      ],
      "metadata": {
        "id": "UBM5AJEcAKPu"
      }
    }
  ]
}