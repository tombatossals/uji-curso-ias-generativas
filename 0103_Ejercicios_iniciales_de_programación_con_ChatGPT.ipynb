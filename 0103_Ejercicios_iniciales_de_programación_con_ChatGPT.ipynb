{
  "nbformat": 4,
  "nbformat_minor": 0,
  "metadata": {
    "colab": {
      "provenance": [],
      "authorship_tag": "ABX9TyO249iHLo8whlxH0kTH0GqE",
      "include_colab_link": true
    },
    "kernelspec": {
      "name": "python3",
      "display_name": "Python 3"
    },
    "language_info": {
      "name": "python"
    }
  },
  "cells": [
    {
      "cell_type": "markdown",
      "metadata": {
        "id": "view-in-github",
        "colab_type": "text"
      },
      "source": [
        "<a href=\"https://colab.research.google.com/github/tombatossals/uji-curso-ias-generativas/blob/main/0103_Ejercicios_iniciales_de_programaci%C3%B3n_con_ChatGPT.ipynb\" target=\"_parent\"><img src=\"https://colab.research.google.com/assets/colab-badge.svg\" alt=\"Open In Colab\"/></a>"
      ]
    },
    {
      "cell_type": "markdown",
      "source": [
        "# Ejercicio 1\n",
        "\n",
        "Necesitas una expresión regular en PLSQL para comprobar si un correo es válido. Ahora te interesa que la expresión regular valide que una cadena contiene direcciones de correo separadas por comas.\n",
        "\n",
        "Ahora lo mismo, pero en javascript.\n",
        "\n",
        "## Solución\n",
        "https://reveal-5dn.pages.dev/fc78"
      ],
      "metadata": {
        "id": "WZ1kr3BY6usf"
      }
    },
    {
      "cell_type": "markdown",
      "source": [
        "# Ejercicio 2\n",
        "\n",
        "Tienes que crear una función PLSQL llamada busca_nombre_persona que reciba como parámetro un id de tipo número, y que devuelva el nombre completo de una persona. El nombre lo ha de obtener de una tabla que se llama per_personas donde hay campos como los siguientes: id, nombre, apellido1, apellido2, f_nacimiento, etc.\n",
        "\n",
        "## Solución\n",
        "https://reveal-5dn.pages.dev/2986"
      ],
      "metadata": {
        "id": "y1LGJKe5BmtK"
      }
    },
    {
      "cell_type": "markdown",
      "source": [
        "# Ejercicio 3\n",
        "\n",
        "No te gusta la línea de comandos, pero has de encontrar en tu sistema operativo Linux todos los archivos de tu carpeta de usuario que ocupen más de 100 megas, y listarlos de mayor a menor tamaños.\n",
        "\n",
        "## Solución\n",
        "https://reveal-5dn.pages.dev/9724"
      ],
      "metadata": {
        "id": "z_KEwuaR-AfA"
      }
    },
    {
      "cell_type": "markdown",
      "source": [
        "# Ejercicio 4\n",
        "\n",
        "Toma esta imagen boceto y saca el DDL en oracle que defina las tablas que lo componen. Pregúntale primero qué es un DDL.\n",
        "\n",
        "<img src=\"https://drive.google.com/uc?export=view&id=1t3cZ41MULwpsG6dJhsarbZbBBXvcSgIQ\" width=\"800\"/>\n",
        "\n",
        "## Solución\n",
        "https://reveal-5dn.pages.dev/6fb5"
      ],
      "metadata": {
        "id": "culAUkZZBrVm"
      }
    },
    {
      "cell_type": "markdown",
      "source": [
        "# Ejercicio 5\n",
        "\n",
        "Queremos documentar el funcionamiento de este bloque de código con un comentario para que nuestros compañeros sepan la intención cuando vayan a modificarlo.\n",
        "\n",
        "\n",
        "```javascript\n",
        "$('input#email').on('change input blur', function () {\n",
        "    var input = $(this);\n",
        "    var inputGroup = input.parent();\n",
        "    inputGroup.find('.help-block').remove();\n",
        "\n",
        "    var val = input.val();\n",
        "    var valid = !empty(val) && /.+@.+\\..+/.test(val);\n",
        "\n",
        "    inputGroup.toggleClass('has-error', !valid);\n",
        "    if (!valid) {\n",
        "        input.after('<span class=\"help-block\">A valid email address is required</span>');\n",
        "    }\n",
        "\n",
        "    input.data('valid', valid);\n",
        "});\n",
        "```\n",
        "\n",
        "\n",
        "Ahora este bloque de código:\n",
        "```sql\n",
        "select p.* from (\n",
        "        select ID, LISTAGG(CATEGORY, ',') within group (order by CATEGORY), avg(score) score\n",
        "        from foo\n",
        "        group by ID)\n",
        "PIVOT (avg(score) score\n",
        "FOR category IN ('A' as A_AVG, 'B' as B_AVG)) p;\n",
        "```\n",
        "\n",
        "\n",
        "## Solución\n",
        "https://reveal-5dn.pages.dev/34d9"
      ],
      "metadata": {
        "id": "tqztLtrgJX1H"
      }
    },
    {
      "cell_type": "markdown",
      "source": [
        "# Ejercicio 7\n",
        "\n",
        "Pídele a ChatGPT que te indique cómo optimizar estas consultas SQL.\n",
        "\n",
        "```sql\n",
        "SELECT * FROM customers WHERE customer_id IN (SELECT customer_id FROM orders WHERE order_date >= DATEADD(day, -30, GETDATE()));\n",
        "```\n",
        "\n",
        "## Solución\n",
        "https://reveal-5dn.pages.dev/34d9"
      ],
      "metadata": {
        "id": "WPAYpsZ_Jeb4"
      }
    },
    {
      "cell_type": "markdown",
      "source": [
        "# Ejercicio 8\n",
        "\n",
        "Cambia estas consultas SQL de JOINS implícitos a JOINs implícitos\n",
        "\n",
        "```sql\n",
        "Select\n",
        "    l_orderkey,\n",
        "    o_custkey,\n",
        "    l_partkey,\n",
        "    l_quantity * l_extendedprice\n",
        "From\n",
        "    lineitem,\n",
        "    orders,\n",
        "    part\n",
        "Where\n",
        "    l_orderkey = o_orderkey\n",
        "    And l_partkey = p_partkey\n",
        "    And l_partkey >= 150\n",
        "    and l_partkey <= 160\n",
        "    And o_custkey = 123\n",
        "    And o_orderdate = l_shipdate\n",
        "    And p_name like ‘ % abc % ’\n",
        "    And l_quantity * l_extendedprice > 100\n",
        "```\n",
        "\n",
        "## Solución\n",
        "https://reveal-5dn.pages.dev/ca67"
      ],
      "metadata": {
        "id": "apxZWrsXJllA"
      }
    },
    {
      "cell_type": "markdown",
      "source": [
        "# Ejercicio 9\n",
        "\n",
        "Necesitamos ejecutar en el cron el script /home/user/mi-script.sh, y quiero que se ejecute cada 30 minutos de 10 de la mañana a 8 de la tarde. ¿Cuál es la línea de cron que debo utilizar?\n",
        "\n",
        "## Solución\n",
        "https://reveal-5dn.pages.dev/fb31"
      ],
      "metadata": {
        "id": "Zj6CkG5G2Zr_"
      }
    }
  ]
}